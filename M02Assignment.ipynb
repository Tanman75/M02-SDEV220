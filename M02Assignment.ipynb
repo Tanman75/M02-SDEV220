{
  "metadata": {
    "language_info": {
      "codemirror_mode": {
        "name": "python",
        "version": 3
      },
      "file_extension": ".py",
      "mimetype": "text/x-python",
      "name": "python",
      "nbconvert_exporter": "python",
      "pygments_lexer": "ipython3",
      "version": "3.8"
    },
    "kernelspec": {
      "name": "python",
      "display_name": "Python (Pyodide)",
      "language": "python"
    }
  },
  "nbformat_minor": 4,
  "nbformat": 4,
  "cells": [
    {
      "cell_type": "code",
      "source": "secret = 5\nguess = 8\n\nif (guess < secret):\n    print(\"too low\")\nelif (guess > secret):\n    print(\"too high\")\nelse:\n    print(\"just right\")",
      "metadata": {
        "trusted": true
      },
      "execution_count": 1,
      "outputs": [
        {
          "name": "stdout",
          "text": "too high\n",
          "output_type": "stream"
        }
      ]
    },
    {
      "cell_type": "code",
      "source": "small = True\ngreen = False\n\nif (small == True and green == False):\n    print(\"cherry\")\n    if (small == False and green == True):\n        print(\"watermelon\")\n    if(small == False and green == False):\n        print(\"pumpkin\")\nelse:\n    print(\"pea\")",
      "metadata": {
        "trusted": true
      },
      "execution_count": 2,
      "outputs": [
        {
          "name": "stdout",
          "text": "cherry\n",
          "output_type": "stream"
        }
      ]
    },
    {
      "cell_type": "code",
      "source": "i = [3,2,1,0]\nfor x in i:\n    print(x)",
      "metadata": {
        "trusted": true
      },
      "execution_count": 6,
      "outputs": [
        {
          "name": "stdout",
          "text": "3\n2\n1\n0\n",
          "output_type": "stream"
        }
      ]
    },
    {
      "cell_type": "code",
      "source": "guess_me = 7\nnumber = 1\n\nwhile True:\n    if(number < guess_me):\n        print(\"too low\")\n    elif (number == guess_me):\n        print(\"found it\")\n        break\n    else:\n        print(\"oops\")\n        break\n    number +=1",
      "metadata": {
        "trusted": true
      },
      "execution_count": 9,
      "outputs": [
        {
          "name": "stdout",
          "text": "too low\ntoo low\ntoo low\ntoo low\ntoo low\ntoo low\nfound it\n",
          "output_type": "stream"
        }
      ]
    },
    {
      "cell_type": "code",
      "source": "guess_me = 5\nfor number in range(1,10):\n    if number < guess_me:\n        print(\"too low\")\n    elif number == guess_me:\n        print(\"found it\")\n        break\n    else:\n        print(\"oops\")\n        exit\n    \n",
      "metadata": {
        "trusted": true
      },
      "execution_count": 12,
      "outputs": [
        {
          "name": "stdout",
          "text": "too low\ntoo low\ntoo low\ntoo low\nfound it\n",
          "output_type": "stream"
        }
      ]
    },
    {
      "cell_type": "code",
      "source": "",
      "metadata": {},
      "execution_count": null,
      "outputs": []
    }
  ]
}